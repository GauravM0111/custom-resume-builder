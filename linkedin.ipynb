{
 "cells": [
  {
   "cell_type": "code",
   "execution_count": null,
   "metadata": {},
   "outputs": [],
   "source": [
    "from dotenv import load_dotenv\n",
    "\n",
    "load_dotenv()"
   ]
  },
  {
   "cell_type": "code",
   "execution_count": null,
   "metadata": {},
   "outputs": [],
   "source": [
    "import requests\n",
    "import os\n",
    "from config import PROXYCURL_BASE_URL\n",
    "\n",
    "def get_profile_data(linkedin_url):\n",
    "    url = f'{PROXYCURL_BASE_URL}/linkedin?url={linkedin_url}'\n",
    "    headers = {\n",
    "        'Authorization': f'Bearer {os.getenv(\"PROXYCURL_API_KEY\")}'\n",
    "    }\n",
    "    response = requests.get(url, headers=headers)\n",
    "\n",
    "    if response.ok:\n",
    "        return response.json()\n",
    "    \n",
    "    print(response.text)\n",
    "    return None"
   ]
  },
  {
   "cell_type": "code",
   "execution_count": null,
   "metadata": {},
   "outputs": [],
   "source": [
    "import json\n",
    "\n",
    "profile_data = get_profile_data('https://www.linkedin.com/in/gaurav-manglani/')\n",
    "with open('LinkedIn_profile.json', 'w') as output_file:\n",
    "    json.dump(profile_data, output_file)"
   ]
  }
 ],
 "metadata": {
  "kernelspec": {
   "display_name": "venv",
   "language": "python",
   "name": "python3"
  },
  "language_info": {
   "codemirror_mode": {
    "name": "ipython",
    "version": 3
   },
   "file_extension": ".py",
   "mimetype": "text/x-python",
   "name": "python",
   "nbconvert_exporter": "python",
   "pygments_lexer": "ipython3",
   "version": "3.12.4"
  }
 },
 "nbformat": 4,
 "nbformat_minor": 2
}
