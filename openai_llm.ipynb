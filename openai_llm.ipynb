{
 "cells": [
  {
   "cell_type": "code",
   "execution_count": 66,
   "metadata": {},
   "outputs": [
    {
     "data": {
      "text/plain": [
       "True"
      ]
     },
     "execution_count": 66,
     "metadata": {},
     "output_type": "execute_result"
    }
   ],
   "source": [
    "from dotenv import load_dotenv\n",
    "\n",
    "load_dotenv()  # take environment variables from .env."
   ]
  },
  {
   "cell_type": "code",
   "execution_count": 67,
   "id": "592677ee",
   "metadata": {},
   "outputs": [],
   "source": [
    "from openai import OpenAI\n",
    "\n",
    "client = OpenAI() # defautls to getting the key using os.environ.get(\"OPENAI_API_KEY\")"
   ]
  },
  {
   "cell_type": "code",
   "execution_count": 68,
   "id": "907d8c1a",
   "metadata": {},
   "outputs": [
    {
     "name": "stdout",
     "output_type": "stream",
     "text": [
      "FileObject(id='file-Sc3TiWy4VBnmyUH3hO8fov1d', bytes=4863, created_at=1721983353, filename='LinkedIn_profile.json', object='file', purpose='assistants', status='processed', status_details=None)\n"
     ]
    }
   ],
   "source": [
    "# Upload LinkedIn profile to OpenAI\n",
    "profile = client.files.create(\n",
    "  file=open(\"LinkedIn_profile.json\", \"rb\"),\n",
    "  purpose=\"assistants\"\n",
    ")\n",
    "print(profile)"
   ]
  },
  {
   "cell_type": "code",
   "execution_count": 69,
   "id": "aa9cc130",
   "metadata": {},
   "outputs": [
    {
     "name": "stdout",
     "output_type": "stream",
     "text": [
      "VectorStore(id='vs_2cR4eXl6jG0X0q2AFtszW0yh', created_at=1721983355, file_counts=FileCounts(cancelled=0, completed=0, failed=0, in_progress=1, total=1), last_active_at=1721983355, metadata={}, name='Example_User LinkedIn Profile', object='vector_store', status='in_progress', usage_bytes=0, expires_after=None, expires_at=None)\n"
     ]
    }
   ],
   "source": [
    "# Create Vector Store containing the LinkedIn profile\n",
    "vector_store = client.beta.vector_stores.create(\n",
    "  name=\"Example_User LinkedIn Profile\",\n",
    "  file_ids=[profile.id]\n",
    ")\n",
    "print(vector_store)"
   ]
  },
  {
   "cell_type": "code",
   "execution_count": 70,
   "id": "037c2acd",
   "metadata": {},
   "outputs": [
    {
     "name": "stdout",
     "output_type": "stream",
     "text": [
      "Thread(id='thread_McvBEGxOhWPvR2o0wLJOnEys', created_at=1721983358, metadata={}, object='thread', tool_resources=ToolResources(code_interpreter=None, file_search=ToolResourcesFileSearch(vector_store_ids=['vs_2cR4eXl6jG0X0q2AFtszW0yh'])))\n"
     ]
    }
   ],
   "source": [
    "# Attach the vectorized example linkedIn profile to this thread\n",
    "with open(\"job_description.json\", \"r\") as f:\n",
    "    # read in contents of job description\n",
    "    job_description = f.read()\n",
    "\n",
    "thread = client.beta.threads.create(\n",
    "    tool_resources={\n",
    "        'file_search': {\n",
    "            'vector_store_ids': [vector_store.id]\n",
    "        }\n",
    "    },\n",
    "    messages=[\n",
    "        {\n",
    "            'role': 'user',\n",
    "            'content': job_description\n",
    "        }\n",
    "    ]\n",
    ")\n",
    "\n",
    "print(thread)"
   ]
  },
  {
   "cell_type": "code",
   "execution_count": 71,
   "id": "bd325008",
   "metadata": {},
   "outputs": [
    {
     "name": "stdout",
     "output_type": "stream",
     "text": [
      "Run(id='run_MPL0YmKrW5DbOl8xjKe1Rw0D', assistant_id='asst_fixO3zdAF2VSLVasrSpNMrDt', cancelled_at=None, completed_at=None, created_at=1721983362, expires_at=1721983962, failed_at=None, incomplete_details=None, instructions='You are a Resume Building Expert! \\n\\nThe user will input a job description. You will use the user\\'s attached JSON LinkedIn profile to build a resume that will give the user the best chance of getting the job described in the job description.\\n\\nThe created resume should be in JSON format, according to the following JSON Schema:\\n{\\n  \"properties\": {\\n    \"basics\": {\\n      \"type\": \"object\",\\n      \"additionalProperties\": true,\\n      \"properties\": {\\n        \"name\": {\\n          \"type\": \"string\"\\n        },\\n        \"label\": {\\n          \"type\": \"string\",\\n          \"description\": \"e.g. Web Developer\"\\n        },\\n        \"image\": {\\n          \"type\": \"string\",\\n          \"description\": \"URL (as per RFC 3986) to a image in JPEG or PNG format\"\\n        },\\n        \"email\": {\\n          \"type\": \"string\",\\n          \"description\": \"e.g. thomas@gmail.com\",\\n          \"format\": \"email\"\\n        },\\n        \"phone\": {\\n          \"type\": \"string\",\\n          \"description\": \"Phone numbers are stored as strings so use any format you like, e.g. 712-117-2923\"\\n        },\\n        \"url\": {\\n          \"type\": \"string\",\\n          \"description\": \"URL (as per RFC 3986) to your website, e.g. personal homepage\",\\n          \"format\": \"uri\"\\n        },\\n        \"summary\": {\\n          \"type\": \"string\",\\n          \"description\": \"Write a short 2-3 sentence biography about yourself\"\\n        },\\n        \"location\": {\\n          \"type\": \"object\",\\n          \"additionalProperties\": true,\\n          \"properties\": {\\n            \"address\": {\\n              \"type\": \"string\",\\n              \"description\": \"To add multiple address lines, use \\\\n. For example, 1234 Glücklichkeit Straße\\\\nHinterhaus 5. Etage li.\"\\n            },\\n            \"postalCode\": {\\n              \"type\": \"string\"\\n            },\\n            \"city\": {\\n              \"type\": \"string\"\\n            },\\n            \"countryCode\": {\\n              \"type\": \"string\",\\n              \"description\": \"code as per ISO-3166-1 ALPHA-2, e.g. US, AU, IN\"\\n            },\\n            \"region\": {\\n              \"type\": \"string\",\\n              \"description\": \"The general region where you live. Can be a US state, or a province, for instance.\"\\n            }\\n          }\\n        },\\n        \"profiles\": {\\n          \"type\": \"array\",\\n          \"description\": \"Specify any number of social networks that you participate in\",\\n          \"additionalItems\": false,\\n          \"items\": {\\n            \"type\": \"object\",\\n            \"additionalProperties\": true,\\n            \"properties\": {\\n              \"network\": {\\n                \"type\": \"string\",\\n                \"description\": \"e.g. Facebook or Twitter\"\\n              },\\n              \"username\": {\\n                \"type\": \"string\",\\n                \"description\": \"e.g. neutralthoughts\"\\n              },\\n              \"url\": {\\n                \"type\": \"string\",\\n                \"description\": \"e.g. http://twitter.example.com/neutralthoughts\",\\n                \"format\": \"uri\"\\n              }\\n            }\\n          }\\n        }\\n      }\\n    },\\n    \"work\": {\\n      \"type\": \"array\",\\n      \"additionalItems\": false,\\n      \"items\": {\\n        \"type\": \"object\",\\n        \"additionalProperties\": true,\\n        \"properties\": {\\n          \"name\": {\\n            \"type\": \"string\",\\n            \"description\": \"e.g. Facebook\"\\n          },\\n          \"location\": {\\n            \"type\": \"string\",\\n            \"description\": \"e.g. Menlo Park, CA\"\\n          },\\n          \"description\": {\\n            \"type\": \"string\",\\n            \"description\": \"e.g. Social Media Company\"\\n          },\\n          \"position\": {\\n            \"type\": \"string\",\\n            \"description\": \"e.g. Software Engineer\"\\n          },\\n          \"url\": {\\n            \"type\": \"string\",\\n            \"description\": \"e.g. http://facebook.example.com\",\\n            \"format\": \"uri\"\\n          },\\n          \"startDate\": {\\n            \"type\": \"string\",\\n            \"description\": \"Similar to the standard date type, but each section after the year is optional. e.g. 2014-06-29 or 2023-04\",\\n            \"pattern\": \"^([1-2][0-9]{3}-[0-1][0-9]-[0-3][0-9]|[1-2][0-9]{3}-[0-1][0-9]|[1-2][0-9]{3})$\"\\n          },\\n          \"endDate\": {\\n            \"type\": \"string\",\\n            \"description\": \"Similar to the standard date type, but each section after the year is optional. e.g. 2014-06-29 or 2023-04\",\\n            \"pattern\": \"^([1-2][0-9]{3}-[0-1][0-9]-[0-3][0-9]|[1-2][0-9]{3}-[0-1][0-9]|[1-2][0-9]{3})$\"\\n          },\\n          \"summary\": {\\n            \"type\": \"string\",\\n            \"description\": \"Give an overview of your responsibilities at the company\"\\n          },\\n          \"highlights\": {\\n            \"type\": \"array\",\\n            \"description\": \"Specify multiple accomplishments\",\\n            \"additionalItems\": false,\\n            \"items\": {\\n              \"type\": \"string\",\\n              \"description\": \"e.g. Increased profits by 20% from 2011-2012 through viral advertising\"\\n            }\\n          }\\n        }\\n      }\\n    },\\n    \"volunteer\": {\\n      \"type\": \"array\",\\n      \"additionalItems\": false,\\n      \"items\": {\\n        \"type\": \"object\",\\n        \"additionalProperties\": true,\\n        \"properties\": {\\n          \"organization\": {\\n            \"type\": \"string\",\\n            \"description\": \"e.g. Facebook\"\\n          },\\n          \"position\": {\\n            \"type\": \"string\",\\n            \"description\": \"e.g. Software Engineer\"\\n          },\\n          \"url\": {\\n            \"type\": \"string\",\\n            \"description\": \"e.g. http://facebook.example.com\",\\n            \"format\": \"uri\"\\n          },\\n          \"startDate\": {\\n            \"type\": \"string\",\\n            \"description\": \"Similar to the standard date type, but each section after the year is optional. e.g. 2014-06-29 or 2023-04\",\\n            \"pattern\": \"^([1-2][0-9]{3}-[0-1][0-9]-[0-3][0-9]|[1-2][0-9]{3}-[0-1][0-9]|[1-2][0-9]{3})$\"\\n          },\\n          \"endDate\": {\\n            \"type\": \"string\",\\n            \"description\": \"Similar to the standard date type, but each section after the year is optional. e.g. 2014-06-29 or 2023-04\",\\n            \"pattern\": \"^([1-2][0-9]{3}-[0-1][0-9]-[0-3][0-9]|[1-2][0-9]{3}-[0-1][0-9]|[1-2][0-9]{3})$\"\\n          },\\n          \"summary\": {\\n            \"type\": \"string\",\\n            \"description\": \"Give an overview of your responsibilities at the company\"\\n          },\\n          \"highlights\": {\\n            \"type\": \"array\",\\n            \"description\": \"Specify accomplishments and achievements\",\\n            \"additionalItems\": false,\\n            \"items\": {\\n              \"type\": \"string\",\\n              \"description\": \"e.g. Increased profits by 20% from 2011-2012 through viral advertising\"\\n            }\\n          }\\n        }\\n      }\\n    },\\n    \"education\": {\\n      \"type\": \"array\",\\n      \"additionalItems\": false,\\n      \"items\": {\\n        \"type\": \"object\",\\n        \"additionalProperties\": true,\\n        \"properties\": {\\n          \"institution\": {\\n            \"type\": \"string\",\\n            \"description\": \"e.g. Massachusetts Institute of Technology\"\\n          },\\n          \"url\": {\\n            \"type\": \"string\",\\n            \"description\": \"e.g. http://facebook.example.com\",\\n            \"format\": \"uri\"\\n          },\\n          \"area\": {\\n            \"type\": \"string\",\\n            \"description\": \"e.g. Arts\"\\n          },\\n          \"studyType\": {\\n            \"type\": \"string\",\\n            \"description\": \"e.g. Bachelor\"\\n          },\\n          \"startDate\": {\\n            \"type\": \"string\",\\n            \"description\": \"Similar to the standard date type, but each section after the year is optional. e.g. 2014-06-29 or 2023-04\",\\n            \"pattern\": \"^([1-2][0-9]{3}-[0-1][0-9]-[0-3][0-9]|[1-2][0-9]{3}-[0-1][0-9]|[1-2][0-9]{3})$\"\\n          },\\n          \"endDate\": {\\n            \"type\": \"string\",\\n            \"description\": \"Similar to the standard date type, but each section after the year is optional. e.g. 2014-06-29 or 2023-04\",\\n            \"pattern\": \"^([1-2][0-9]{3}-[0-1][0-9]-[0-3][0-9]|[1-2][0-9]{3}-[0-1][0-9]|[1-2][0-9]{3})$\"\\n          },\\n          \"score\": {\\n            \"type\": \"string\",\\n            \"description\": \"grade point average, e.g. 3.67/4.0\"\\n          },\\n          \"courses\": {\\n            \"type\": \"array\",\\n            \"description\": \"List notable courses/subjects\",\\n            \"additionalItems\": false,\\n            \"items\": {\\n              \"type\": \"string\",\\n              \"description\": \"e.g. H1302 - Introduction to American history\"\\n            }\\n          }\\n        }\\n      }\\n    },\\n    \"awards\": {\\n      \"type\": \"array\",\\n      \"description\": \"Specify any awards you have received throughout your professional career\",\\n      \"additionalItems\": false,\\n      \"items\": {\\n        \"type\": \"object\",\\n        \"additionalProperties\": true,\\n        \"properties\": {\\n          \"title\": {\\n            \"type\": \"string\",\\n            \"description\": \"e.g. One of the 100 greatest minds of the century\"\\n          },\\n          \"date\": {\\n            \"type\": \"string\",\\n            \"description\": \"Similar to the standard date type, but each section after the year is optional. e.g. 2014-06-29 or 2023-04\",\\n            \"pattern\": \"^([1-2][0-9]{3}-[0-1][0-9]-[0-3][0-9]|[1-2][0-9]{3}-[0-1][0-9]|[1-2][0-9]{3})$\"\\n          },\\n          \"awarder\": {\\n            \"type\": \"string\",\\n            \"description\": \"e.g. Time Magazine\"\\n          },\\n          \"summary\": {\\n            \"type\": \"string\",\\n            \"description\": \"e.g. Received for my work with Quantum Physics\"\\n          }\\n        }\\n      }\\n    },\\n    \"certificates\": {\\n      \"type\": \"array\",\\n      \"description\": \"Specify any certificates you have received throughout your professional career\",\\n      \"additionalItems\": false,\\n      \"items\": {\\n        \"type\": \"object\",\\n        \"additionalProperties\": true,\\n        \"properties\": {\\n          \"name\": {\\n            \"type\": \"string\",\\n            \"description\": \"e.g. Certified Kubernetes Administrator\"\\n          },\\n          \"date\": {\\n            \"type\": \"string\",\\n            \"description\": \"Similar to the standard date type, but each section after the year is optional. e.g. 2014-06-29 or 2023-04\",\\n            \"pattern\": \"^([1-2][0-9]{3}-[0-1][0-9]-[0-3][0-9]|[1-2][0-9]{3}-[0-1][0-9]|[1-2][0-9]{3})$\"\\n          },\\n          \"url\": {\\n            \"type\": \"string\",\\n            \"description\": \"e.g. http://example.com\",\\n            \"format\": \"uri\"\\n          },\\n          \"issuer\": {\\n            \"type\": \"string\",\\n            \"description\": \"e.g. CNCF\"\\n          }\\n        }\\n      }\\n    },\\n    \"publications\": {\\n      \"type\": \"array\",\\n      \"description\": \"Specify your publications through your career\",\\n      \"additionalItems\": false,\\n      \"items\": {\\n        \"type\": \"object\",\\n        \"additionalProperties\": true,\\n        \"properties\": {\\n          \"name\": {\\n            \"type\": \"string\",\\n            \"description\": \"e.g. The World Wide Web\"\\n          },\\n          \"publisher\": {\\n            \"type\": \"string\",\\n            \"description\": \"e.g. IEEE, Computer Magazine\"\\n          },\\n          \"releaseDate\": {\\n            \"type\": \"string\",\\n            \"description\": \"Similar to the standard date type, but each section after the year is optional. e.g. 2014-06-29 or 2023-04\",\\n            \"pattern\": \"^([1-2][0-9]{3}-[0-1][0-9]-[0-3][0-9]|[1-2][0-9]{3}-[0-1][0-9]|[1-2][0-9]{3})$\"\\n          },\\n          \"url\": {\\n            \"type\": \"string\",\\n            \"description\": \"e.g. http://www.computer.org.example.com/csdl/mags/co/1996/10/rx069-abs.html\",\\n            \"format\": \"uri\"\\n          },\\n          \"summary\": {\\n            \"type\": \"string\",\\n            \"description\": \"Short summary of publication. e.g. Discussion of the World Wide Web, HTTP, HTML.\"\\n          }\\n        }\\n      }\\n    },\\n    \"skills\": {\\n      \"type\": \"array\",\\n      \"description\": \"List out your professional skill-set\",\\n      \"additionalItems\": false,\\n      \"items\": {\\n        \"type\": \"object\",\\n        \"additionalProperties\": true,\\n        \"properties\": {\\n          \"name\": {\\n            \"type\": \"string\",\\n            \"description\": \"e.g. Web Development\"\\n          },\\n          \"level\": {\\n            \"type\": \"string\",\\n            \"description\": \"e.g. Master\"\\n          },\\n          \"keywords\": {\\n            \"type\": \"array\",\\n            \"description\": \"List some keywords pertaining to this skill\",\\n            \"additionalItems\": false,\\n            \"items\": {\\n              \"type\": \"string\",\\n              \"description\": \"e.g. HTML\"\\n            }\\n          }\\n        }\\n      }\\n    },\\n    \"languages\": {\\n      \"type\": \"array\",\\n      \"description\": \"List any other languages you speak\",\\n      \"additionalItems\": false,\\n      \"items\": {\\n        \"type\": \"object\",\\n        \"additionalProperties\": true,\\n        \"properties\": {\\n          \"language\": {\\n            \"type\": \"string\",\\n            \"description\": \"e.g. English, Spanish\"\\n          },\\n          \"fluency\": {\\n            \"type\": \"string\",\\n            \"description\": \"e.g. Fluent, Beginner\"\\n          }\\n        }\\n      }\\n    },\\n    \"interests\": {\\n      \"type\": \"array\",\\n      \"additionalItems\": false,\\n      \"items\": {\\n        \"type\": \"object\",\\n        \"additionalProperties\": true,\\n        \"properties\": {\\n          \"name\": {\\n            \"type\": \"string\",\\n            \"description\": \"e.g. Philosophy\"\\n          },\\n          \"keywords\": {\\n            \"type\": \"array\",\\n            \"additionalItems\": false,\\n            \"items\": {\\n              \"type\": \"string\",\\n              \"description\": \"e.g. Friedrich Nietzsche\"\\n            }\\n          }\\n        }\\n      }\\n    },\\n    \"references\": {\\n      \"type\": \"array\",\\n      \"description\": \"List references you have received\",\\n      \"additionalItems\": false,\\n      \"items\": {\\n        \"type\": \"object\",\\n        \"additionalProperties\": true,\\n        \"properties\": {\\n          \"name\": {\\n            \"type\": \"string\",\\n            \"description\": \"e.g. Timothy Cook\"\\n          },\\n          \"reference\": {\\n            \"type\": \"string\",\\n            \"description\": \"e.g. Joe blogs was a great employee, who turned up to work at least once a week. He exceeded my expectations when it came to doing nothing.\"\\n          }\\n        }\\n      }\\n    },\\n    \"projects\": {\\n      \"type\": \"array\",\\n      \"description\": \"Specify career projects\",\\n      \"additionalItems\": false,\\n      \"items\": {\\n        \"type\": \"object\",\\n        \"additionalProperties\": true,\\n        \"properties\": {\\n          \"name\": {\\n            \"type\": \"string\",\\n            \"description\": \"e.g. The World Wide Web\"\\n          },\\n          \"description\": {\\n            \"type\": \"string\",\\n            \"description\": \"Short summary of project. e.g. Collated works of 2017.\"\\n          },\\n          \"highlights\": {\\n            \"type\": \"array\",\\n            \"description\": \"Specify multiple features\",\\n            \"additionalItems\": false,\\n            \"items\": {\\n              \"type\": \"string\",\\n              \"description\": \"e.g. Directs you close but not quite there\"\\n            }\\n          },\\n          \"keywords\": {\\n            \"type\": \"array\",\\n            \"description\": \"Specify special elements involved\",\\n            \"additionalItems\": false,\\n            \"items\": {\\n              \"type\": \"string\",\\n              \"description\": \"e.g. AngularJS\"\\n            }\\n          },\\n          \"startDate\": {\\n            \"type\": \"string\",\\n            \"description\": \"Similar to the standard date type, but each section after the year is optional. e.g. 2014-06-29 or 2023-04\",\\n            \"pattern\": \"^([1-2][0-9]{3}-[0-1][0-9]-[0-3][0-9]|[1-2][0-9]{3}-[0-1][0-9]|[1-2][0-9]{3})$\"\\n          },\\n          \"endDate\": {\\n            \"type\": \"string\",\\n            \"description\": \"Similar to the standard date type, but each section after the year is optional. e.g. 2014-06-29 or 2023-04\",\\n            \"pattern\": \"^([1-2][0-9]{3}-[0-1][0-9]-[0-3][0-9]|[1-2][0-9]{3}-[0-1][0-9]|[1-2][0-9]{3})$\"\\n          },\\n          \"url\": {\\n            \"type\": \"string\",\\n            \"format\": \"uri\",\\n            \"description\": \"e.g. http://www.computer.org/csdl/mags/co/1996/10/rx069-abs.html\"\\n          },\\n          \"roles\": {\\n            \"type\": \"array\",\\n            \"description\": \"Specify your role on this project or in company\",\\n            \"additionalItems\": false,\\n            \"items\": {\\n              \"type\": \"string\",\\n              \"description\": \"e.g. Team Lead, Speaker, Writer\"\\n            }\\n          },\\n          \"entity\": {\\n            \"type\": \"string\",\\n            \"description\": \"Specify the relevant company/entity affiliations e.g. \\'greenpeace\\', \\'corporationXYZ\\'\"\\n          },\\n          \"type\": {\\n            \"type\": \"string\",\\n            \"description\": \" e.g. \\'volunteering\\', \\'presentation\\', \\'talk\\', \\'application\\', \\'conference\\'\"\\n          }\\n        }\\n      }\\n    }\\n  }\\n}', last_error=None, max_completion_tokens=None, max_prompt_tokens=None, metadata={}, model='gpt-4-turbo-preview', object='thread.run', parallel_tool_calls=True, required_action=None, response_format='auto', started_at=None, status='queued', thread_id='thread_McvBEGxOhWPvR2o0wLJOnEys', tool_choice='auto', tools=[FileSearchTool(type='file_search', file_search=None)], truncation_strategy=TruncationStrategy(type='auto', last_messages=None), usage=None, temperature=1.0, top_p=1.0, tool_resources={})\n"
     ]
    }
   ],
   "source": [
    "import os\n",
    "\n",
    "run = client.beta.threads.runs.create(\n",
    "  thread_id=thread.id,\n",
    "  assistant_id=os.environ.get(\"ASSISTANT_ID\")\n",
    ")\n",
    "\n",
    "print(run)"
   ]
  },
  {
   "cell_type": "code",
   "execution_count": 76,
   "id": "4ca0e629",
   "metadata": {},
   "outputs": [
    {
     "name": "stdout",
     "output_type": "stream",
     "text": [
      "Based on the provided job description for a Software Engineer III position at Google, and information extracted from the user's LinkedIn profile, the following resume has been tailored to match the requirements and preferences of the role:\n",
      "\n",
      "```json\n",
      "{\n",
      "  \"basics\": {\n",
      "    \"name\": \"Jane Doe\",\n",
      "    \"label\": \"Senior Software Engineer\",\n",
      "    \"email\": \"jane.doe@example.com\",\n",
      "    \"phone\": \"(555) 123-4567\",\n",
      "    \"url\": \"https://www.linkedin.com/in/janedoe\",\n",
      "    \"summary\": \"Experienced Software Engineer with a solid background in developing scalable web applications and leading engineering teams. Skilled in JavaScript, React, Node.js, and Python with a strong foundation in data structures, algorithms, and system design. Passionate about leveraging technical expertise to develop innovative solutions that impact millions of users.\",\n",
      "    \"location\": {\n",
      "      \"address\": \"San Francisco, California, United States\"\n",
      "    },\n",
      "    \"profiles\": [\n",
      "      {\n",
      "        \"network\": \"LinkedIn\",\n",
      "        \"username\": \"janedoe\",\n",
      "        \"url\": \"https://www.linkedin.com/in/janedoe\"\n",
      "      }\n",
      "    ]\n",
      "  },\n",
      "  \"work\": [\n",
      "    {\n",
      "      \"name\": \"TechCorp\",\n",
      "      \"location\": \"San Francisco, CA\",\n",
      "      \"description\": \"A leading technology firm specializing in web-based applications.\",\n",
      "      \"position\": \"Senior Software Engineer\",\n",
      "      \"startDate\": \"2022-01\",\n",
      "      \"endDate\": \"Present\",\n",
      "      \"summary\": \"Lead the development and maintenance of advanced web applications. Mentor junior developers and oversee code quality. Proactively collaborate with product managers to define project scope and deliverables, resulting in successful project launches.\",\n",
      "      \"highlights\": [\n",
      "        \"Led a team in developing scalable web applications, improving operational efficiency and user experience.\",\n",
      "        \"Mentored junior developers, enhancing team capabilities and code quality.\"\n",
      "      ]\n",
      "    },\n",
      "    {\n",
      "      \"name\": \"Web Solutions Inc.\",\n",
      "      \"location\": \"San Francisco, CA\",\n",
      "      \"description\": \"Specializes in offering innovative web development solutions.\",\n",
      "      \"position\": \"Junior Software Developer\",\n",
      "      \"startDate\": \"2017-06\",\n",
      "      \"endDate\": \"2019-12\",\n",
      "      \"summary\": \"Assisted in the development and maintenance of web applications, ensuring high-quality standards and timely project execution.\",\n",
      "      \"highlights\": [\n",
      "        \"Developed and maintained numerous web applications, achieving significant improvements in performance and user satisfaction.\"\n",
      "      ]\n",
      "    }\n",
      "  ],\n",
      "  \"education\": [\n",
      "    {\n",
      "      \"institution\": \"University of California, Berkeley\",\n",
      "      \"area\": \"Computer Science\",\n",
      "      \"studyType\": \"Bachelor of Science\",\n",
      "      \"startDate\": \"2013-09\",\n",
      "      \"endDate\": \"2017-05\",\n",
      "      \"courses\": [\n",
      "        \"CS 101 - Introduction to Computing\",\n",
      "        \"CS 201 - Data Structures\",\n",
      "        \"CS 301 - Software Engineering\"\n",
      "      ]\n",
      "    }\n",
      "  ],\n",
      "  \"skills\": [\n",
      "    {\n",
      "      \"name\": \"Programming Languages\",\n",
      "      \"level\": \"Advanced\",\n",
      "      \"keywords\": [\"JavaScript\", \"React\", \"Node.js\", \"Python\"]\n",
      "    },\n",
      "    {\n",
      "      \"name\": \"Web Development\",\n",
      "      \"level\": \"Advanced\",\n",
      "      \"keywords\": [\"Web Application Development\", \"System Design\", \"Agile Methodologies\"]\n",
      "    },\n",
      "    {\n",
      "      \"name\": \"Team Leadership\",\n",
      "      \"level\": \"Intermediate\",\n",
      "      \"keywords\": [\"Mentoring\", \"Code Review\", \"Project Management\"]\n",
      "    }\n",
      "  ],\n",
      "  \"certificates\": [\n",
      "    {\n",
      "      \"name\": \"Certified Scrum Master (CSM)\",\n",
      "      \"issuer\": \"Scrum Alliance\",\n",
      "      \"date\": \"2018-03\"\n",
      "    }\n",
      "  ],\n",
      "  \"volunteer\": [\n",
      "    {\n",
      "      \"organization\": \"Code for America\",\n",
      "      \"position\": \"Volunteer Developer\",\n",
      "      \"startDate\": \"2018-06\",\n",
      "      \"endDate\": \"Present\",\n",
      "      \"summary\": \"Contributed to open-source projects aimed at improving government services through technology.\"\n",
      "    },\n",
      "    {\n",
      "      \"organization\": \"Girls Who Code\",\n",
      "      \"position\": \"Mentor\",\n",
      "      \"startDate\": \"2019-09\",\n",
      "      \"endDate\": \"Present\",\n",
      "      \"summary\": \"Mentored high school girls in coding and software development, providing project guidance and career advice.\"\n",
      "    }\n",
      "  ]\n",
      "}\n",
      "```\n",
      "\n",
      "This resume has been tailored to highlight the applicant's relevant work experience, technical skills, and contributions that align with the Software Engineer III position at Google, Infrastructure, YouTube. Each section has been optimized to reflect the experience and qualifications sought in the job description, emphasizing leadership in software development, proficiency in relevant programming languages, and experience with scalable and large-scale systems.\n"
     ]
    }
   ],
   "source": [
    "# Retreive all run steps\n",
    "run_steps = client.beta.threads.runs.steps.list(\n",
    "    thread_id=thread.id,\n",
    "    run_id=run.id\n",
    ")\n",
    "\n",
    "# Find message creation text step and extract content\n",
    "text_creation_step = run_steps.data[0]\n",
    "message_id = text_creation_step.step_details.message_creation.message_id\n",
    "\n",
    "message = client.beta.threads.messages.retrieve(\n",
    "  message_id=message_id,\n",
    "  thread_id=thread.id,\n",
    ")\n",
    "\n",
    "message_text = message.content[0].text.value\n",
    "print(message_text)"
   ]
  },
  {
   "cell_type": "code",
   "execution_count": 77,
   "id": "b890a8be",
   "metadata": {},
   "outputs": [
    {
     "name": "stdout",
     "output_type": "stream",
     "text": [
      "{'basics': {'name': 'Jane Doe', 'label': 'Senior Software Engineer', 'email': 'jane.doe@example.com', 'phone': '(555) 123-4567', 'url': 'https://www.linkedin.com/in/janedoe', 'summary': 'Experienced Software Engineer with a solid background in developing scalable web applications and leading engineering teams. Skilled in JavaScript, React, Node.js, and Python with a strong foundation in data structures, algorithms, and system design. Passionate about leveraging technical expertise to develop innovative solutions that impact millions of users.', 'location': {'address': 'San Francisco, California, United States'}, 'profiles': [{'network': 'LinkedIn', 'username': 'janedoe', 'url': 'https://www.linkedin.com/in/janedoe'}]}, 'work': [{'name': 'TechCorp', 'location': 'San Francisco, CA', 'description': 'A leading technology firm specializing in web-based applications.', 'position': 'Senior Software Engineer', 'startDate': '2022-01', 'endDate': 'Present', 'summary': 'Lead the development and maintenance of advanced web applications. Mentor junior developers and oversee code quality. Proactively collaborate with product managers to define project scope and deliverables, resulting in successful project launches.', 'highlights': ['Led a team in developing scalable web applications, improving operational efficiency and user experience.', 'Mentored junior developers, enhancing team capabilities and code quality.']}, {'name': 'Web Solutions Inc.', 'location': 'San Francisco, CA', 'description': 'Specializes in offering innovative web development solutions.', 'position': 'Junior Software Developer', 'startDate': '2017-06', 'endDate': '2019-12', 'summary': 'Assisted in the development and maintenance of web applications, ensuring high-quality standards and timely project execution.', 'highlights': ['Developed and maintained numerous web applications, achieving significant improvements in performance and user satisfaction.']}], 'education': [{'institution': 'University of California, Berkeley', 'area': 'Computer Science', 'studyType': 'Bachelor of Science', 'startDate': '2013-09', 'endDate': '2017-05', 'courses': ['CS 101 - Introduction to Computing', 'CS 201 - Data Structures', 'CS 301 - Software Engineering']}], 'skills': [{'name': 'Programming Languages', 'level': 'Advanced', 'keywords': ['JavaScript', 'React', 'Node.js', 'Python']}, {'name': 'Web Development', 'level': 'Advanced', 'keywords': ['Web Application Development', 'System Design', 'Agile Methodologies']}, {'name': 'Team Leadership', 'level': 'Intermediate', 'keywords': ['Mentoring', 'Code Review', 'Project Management']}], 'certificates': [{'name': 'Certified Scrum Master (CSM)', 'issuer': 'Scrum Alliance', 'date': '2018-03'}], 'volunteer': [{'organization': 'Code for America', 'position': 'Volunteer Developer', 'startDate': '2018-06', 'endDate': 'Present', 'summary': 'Contributed to open-source projects aimed at improving government services through technology.'}, {'organization': 'Girls Who Code', 'position': 'Mentor', 'startDate': '2019-09', 'endDate': 'Present', 'summary': 'Mentored high school girls in coding and software development, providing project guidance and career advice.'}]}\n"
     ]
    }
   ],
   "source": [
    "import json\n",
    "\n",
    "# Extract the JSON resume from the message content\n",
    "start = message_text.index(\"```json\") + 7\n",
    "end = message_text.index(\"```\", start)\n",
    "\n",
    "json_resume = json.loads(message_text[start:end])\n",
    "print(json_resume)"
   ]
  }
 ],
 "metadata": {
  "kernelspec": {
   "display_name": "Python 3",
   "language": "python",
   "name": "python3"
  },
  "language_info": {
   "codemirror_mode": {
    "name": "ipython",
    "version": 3
   },
   "file_extension": ".py",
   "mimetype": "text/x-python",
   "name": "python",
   "nbconvert_exporter": "python",
   "pygments_lexer": "ipython3",
   "version": "3.12.4"
  }
 },
 "nbformat": 4,
 "nbformat_minor": 5
}
