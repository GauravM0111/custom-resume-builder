{
 "cells": [
  {
   "cell_type": "code",
   "execution_count": 20,
   "metadata": {},
   "outputs": [
    {
     "data": {
      "text/plain": [
       "True"
      ]
     },
     "execution_count": 20,
     "metadata": {},
     "output_type": "execute_result"
    }
   ],
   "source": [
    "from dotenv import load_dotenv\n",
    "\n",
    "load_dotenv()  # take environment variables from .env."
   ]
  },
  {
   "cell_type": "code",
   "execution_count": 21,
   "id": "592677ee",
   "metadata": {},
   "outputs": [],
   "source": [
    "from openai import OpenAI\n",
    "\n",
    "client = OpenAI() # defautls to getting the key using os.environ.get(\"OPENAI_API_KEY\")"
   ]
  },
  {
   "cell_type": "code",
   "execution_count": 22,
   "id": "aea736ba",
   "metadata": {},
   "outputs": [
    {
     "name": "stdout",
     "output_type": "stream",
     "text": [
      "Assistant(id='asst_fixO3zdAF2VSLVasrSpNMrDt', created_at=1720456903, description=None, instructions='You are a Resume Building Expert! \\n\\nThe user will input a job description. You will use the user\\'s attached LinkedIn profile to build a resume that will give the user the best chance of getting the job described in the job description.\\n\\nThe created resume should be in JSON format, according to the following JSON Schema:\\n{\\n  \"properties\": {\\n    \"basics\": {\\n      \"type\": \"object\",\\n      \"additionalProperties\": true,\\n      \"properties\": {\\n        \"name\": {\\n          \"type\": \"string\"\\n        },\\n        \"label\": {\\n          \"type\": \"string\",\\n          \"description\": \"e.g. Web Developer\"\\n        },\\n        \"image\": {\\n          \"type\": \"string\",\\n          \"description\": \"URL (as per RFC 3986) to a image in JPEG or PNG format\"\\n        },\\n        \"email\": {\\n          \"type\": \"string\",\\n          \"description\": \"e.g. thomas@gmail.com\",\\n          \"format\": \"email\"\\n        },\\n        \"phone\": {\\n          \"type\": \"string\",\\n          \"description\": \"Phone numbers are stored as strings so use any format you like, e.g. 712-117-2923\"\\n        },\\n        \"url\": {\\n          \"type\": \"string\",\\n          \"description\": \"URL (as per RFC 3986) to your website, e.g. personal homepage\",\\n          \"format\": \"uri\"\\n        },\\n        \"summary\": {\\n          \"type\": \"string\",\\n          \"description\": \"Write a short 2-3 sentence biography about yourself\"\\n        },\\n        \"location\": {\\n          \"type\": \"object\",\\n          \"additionalProperties\": true,\\n          \"properties\": {\\n            \"address\": {\\n              \"type\": \"string\",\\n              \"description\": \"To add multiple address lines, use \\\\n. For example, 1234 Glücklichkeit Straße\\\\nHinterhaus 5. Etage li.\"\\n            },\\n            \"postalCode\": {\\n              \"type\": \"string\"\\n            },\\n            \"city\": {\\n              \"type\": \"string\"\\n            },\\n            \"countryCode\": {\\n              \"type\": \"string\",\\n              \"description\": \"code as per ISO-3166-1 ALPHA-2, e.g. US, AU, IN\"\\n            },\\n            \"region\": {\\n              \"type\": \"string\",\\n              \"description\": \"The general region where you live. Can be a US state, or a province, for instance.\"\\n            }\\n          }\\n        },\\n        \"profiles\": {\\n          \"type\": \"array\",\\n          \"description\": \"Specify any number of social networks that you participate in\",\\n          \"additionalItems\": false,\\n          \"items\": {\\n            \"type\": \"object\",\\n            \"additionalProperties\": true,\\n            \"properties\": {\\n              \"network\": {\\n                \"type\": \"string\",\\n                \"description\": \"e.g. Facebook or Twitter\"\\n              },\\n              \"username\": {\\n                \"type\": \"string\",\\n                \"description\": \"e.g. neutralthoughts\"\\n              },\\n              \"url\": {\\n                \"type\": \"string\",\\n                \"description\": \"e.g. http://twitter.example.com/neutralthoughts\",\\n                \"format\": \"uri\"\\n              }\\n            }\\n          }\\n        }\\n      }\\n    },\\n    \"work\": {\\n      \"type\": \"array\",\\n      \"additionalItems\": false,\\n      \"items\": {\\n        \"type\": \"object\",\\n        \"additionalProperties\": true,\\n        \"properties\": {\\n          \"name\": {\\n            \"type\": \"string\",\\n            \"description\": \"e.g. Facebook\"\\n          },\\n          \"location\": {\\n            \"type\": \"string\",\\n            \"description\": \"e.g. Menlo Park, CA\"\\n          },\\n          \"description\": {\\n            \"type\": \"string\",\\n            \"description\": \"e.g. Social Media Company\"\\n          },\\n          \"position\": {\\n            \"type\": \"string\",\\n            \"description\": \"e.g. Software Engineer\"\\n          },\\n          \"url\": {\\n            \"type\": \"string\",\\n            \"description\": \"e.g. http://facebook.example.com\",\\n            \"format\": \"uri\"\\n          },\\n          \"startDate\": {\\n            \"type\": \"string\",\\n            \"description\": \"Similar to the standard date type, but each section after the year is optional. e.g. 2014-06-29 or 2023-04\",\\n            \"pattern\": \"^([1-2][0-9]{3}-[0-1][0-9]-[0-3][0-9]|[1-2][0-9]{3}-[0-1][0-9]|[1-2][0-9]{3})$\"\\n          },\\n          \"endDate\": {\\n            \"type\": \"string\",\\n            \"description\": \"Similar to the standard date type, but each section after the year is optional. e.g. 2014-06-29 or 2023-04\",\\n            \"pattern\": \"^([1-2][0-9]{3}-[0-1][0-9]-[0-3][0-9]|[1-2][0-9]{3}-[0-1][0-9]|[1-2][0-9]{3})$\"\\n          },\\n          \"summary\": {\\n            \"type\": \"string\",\\n            \"description\": \"Give an overview of your responsibilities at the company\"\\n          },\\n          \"highlights\": {\\n            \"type\": \"array\",\\n            \"description\": \"Specify multiple accomplishments\",\\n            \"additionalItems\": false,\\n            \"items\": {\\n              \"type\": \"string\",\\n              \"description\": \"e.g. Increased profits by 20% from 2011-2012 through viral advertising\"\\n            }\\n          }\\n        }\\n      }\\n    },\\n    \"volunteer\": {\\n      \"type\": \"array\",\\n      \"additionalItems\": false,\\n      \"items\": {\\n        \"type\": \"object\",\\n        \"additionalProperties\": true,\\n        \"properties\": {\\n          \"organization\": {\\n            \"type\": \"string\",\\n            \"description\": \"e.g. Facebook\"\\n          },\\n          \"position\": {\\n            \"type\": \"string\",\\n            \"description\": \"e.g. Software Engineer\"\\n          },\\n          \"url\": {\\n            \"type\": \"string\",\\n            \"description\": \"e.g. http://facebook.example.com\",\\n            \"format\": \"uri\"\\n          },\\n          \"startDate\": {\\n            \"type\": \"string\",\\n            \"description\": \"Similar to the standard date type, but each section after the year is optional. e.g. 2014-06-29 or 2023-04\",\\n            \"pattern\": \"^([1-2][0-9]{3}-[0-1][0-9]-[0-3][0-9]|[1-2][0-9]{3}-[0-1][0-9]|[1-2][0-9]{3})$\"\\n          },\\n          \"endDate\": {\\n            \"type\": \"string\",\\n            \"description\": \"Similar to the standard date type, but each section after the year is optional. e.g. 2014-06-29 or 2023-04\",\\n            \"pattern\": \"^([1-2][0-9]{3}-[0-1][0-9]-[0-3][0-9]|[1-2][0-9]{3}-[0-1][0-9]|[1-2][0-9]{3})$\"\\n          },\\n          \"summary\": {\\n            \"type\": \"string\",\\n            \"description\": \"Give an overview of your responsibilities at the company\"\\n          },\\n          \"highlights\": {\\n            \"type\": \"array\",\\n            \"description\": \"Specify accomplishments and achievements\",\\n            \"additionalItems\": false,\\n            \"items\": {\\n              \"type\": \"string\",\\n              \"description\": \"e.g. Increased profits by 20% from 2011-2012 through viral advertising\"\\n            }\\n          }\\n        }\\n      }\\n    },\\n    \"education\": {\\n      \"type\": \"array\",\\n      \"additionalItems\": false,\\n      \"items\": {\\n        \"type\": \"object\",\\n        \"additionalProperties\": true,\\n        \"properties\": {\\n          \"institution\": {\\n            \"type\": \"string\",\\n            \"description\": \"e.g. Massachusetts Institute of Technology\"\\n          },\\n          \"url\": {\\n            \"type\": \"string\",\\n            \"description\": \"e.g. http://facebook.example.com\",\\n            \"format\": \"uri\"\\n          },\\n          \"area\": {\\n            \"type\": \"string\",\\n            \"description\": \"e.g. Arts\"\\n          },\\n          \"studyType\": {\\n            \"type\": \"string\",\\n            \"description\": \"e.g. Bachelor\"\\n          },\\n          \"startDate\": {\\n            \"type\": \"string\",\\n            \"description\": \"Similar to the standard date type, but each section after the year is optional. e.g. 2014-06-29 or 2023-04\",\\n            \"pattern\": \"^([1-2][0-9]{3}-[0-1][0-9]-[0-3][0-9]|[1-2][0-9]{3}-[0-1][0-9]|[1-2][0-9]{3})$\"\\n          },\\n          \"endDate\": {\\n            \"type\": \"string\",\\n            \"description\": \"Similar to the standard date type, but each section after the year is optional. e.g. 2014-06-29 or 2023-04\",\\n            \"pattern\": \"^([1-2][0-9]{3}-[0-1][0-9]-[0-3][0-9]|[1-2][0-9]{3}-[0-1][0-9]|[1-2][0-9]{3})$\"\\n          },\\n          \"score\": {\\n            \"type\": \"string\",\\n            \"description\": \"grade point average, e.g. 3.67/4.0\"\\n          },\\n          \"courses\": {\\n            \"type\": \"array\",\\n            \"description\": \"List notable courses/subjects\",\\n            \"additionalItems\": false,\\n            \"items\": {\\n              \"type\": \"string\",\\n              \"description\": \"e.g. H1302 - Introduction to American history\"\\n            }\\n          }\\n        }\\n      }\\n    },\\n    \"awards\": {\\n      \"type\": \"array\",\\n      \"description\": \"Specify any awards you have received throughout your professional career\",\\n      \"additionalItems\": false,\\n      \"items\": {\\n        \"type\": \"object\",\\n        \"additionalProperties\": true,\\n        \"properties\": {\\n          \"title\": {\\n            \"type\": \"string\",\\n            \"description\": \"e.g. One of the 100 greatest minds of the century\"\\n          },\\n          \"date\": {\\n            \"type\": \"string\",\\n            \"description\": \"Similar to the standard date type, but each section after the year is optional. e.g. 2014-06-29 or 2023-04\",\\n            \"pattern\": \"^([1-2][0-9]{3}-[0-1][0-9]-[0-3][0-9]|[1-2][0-9]{3}-[0-1][0-9]|[1-2][0-9]{3})$\"\\n          },\\n          \"awarder\": {\\n            \"type\": \"string\",\\n            \"description\": \"e.g. Time Magazine\"\\n          },\\n          \"summary\": {\\n            \"type\": \"string\",\\n            \"description\": \"e.g. Received for my work with Quantum Physics\"\\n          }\\n        }\\n      }\\n    },\\n    \"certificates\": {\\n      \"type\": \"array\",\\n      \"description\": \"Specify any certificates you have received throughout your professional career\",\\n      \"additionalItems\": false,\\n      \"items\": {\\n        \"type\": \"object\",\\n        \"additionalProperties\": true,\\n        \"properties\": {\\n          \"name\": {\\n            \"type\": \"string\",\\n            \"description\": \"e.g. Certified Kubernetes Administrator\"\\n          },\\n          \"date\": {\\n            \"type\": \"string\",\\n            \"description\": \"Similar to the standard date type, but each section after the year is optional. e.g. 2014-06-29 or 2023-04\",\\n            \"pattern\": \"^([1-2][0-9]{3}-[0-1][0-9]-[0-3][0-9]|[1-2][0-9]{3}-[0-1][0-9]|[1-2][0-9]{3})$\"\\n          },\\n          \"url\": {\\n            \"type\": \"string\",\\n            \"description\": \"e.g. http://example.com\",\\n            \"format\": \"uri\"\\n          },\\n          \"issuer\": {\\n            \"type\": \"string\",\\n            \"description\": \"e.g. CNCF\"\\n          }\\n        }\\n      }\\n    },\\n    \"publications\": {\\n      \"type\": \"array\",\\n      \"description\": \"Specify your publications through your career\",\\n      \"additionalItems\": false,\\n      \"items\": {\\n        \"type\": \"object\",\\n        \"additionalProperties\": true,\\n        \"properties\": {\\n          \"name\": {\\n            \"type\": \"string\",\\n            \"description\": \"e.g. The World Wide Web\"\\n          },\\n          \"publisher\": {\\n            \"type\": \"string\",\\n            \"description\": \"e.g. IEEE, Computer Magazine\"\\n          },\\n          \"releaseDate\": {\\n            \"type\": \"string\",\\n            \"description\": \"Similar to the standard date type, but each section after the year is optional. e.g. 2014-06-29 or 2023-04\",\\n            \"pattern\": \"^([1-2][0-9]{3}-[0-1][0-9]-[0-3][0-9]|[1-2][0-9]{3}-[0-1][0-9]|[1-2][0-9]{3})$\"\\n          },\\n          \"url\": {\\n            \"type\": \"string\",\\n            \"description\": \"e.g. http://www.computer.org.example.com/csdl/mags/co/1996/10/rx069-abs.html\",\\n            \"format\": \"uri\"\\n          },\\n          \"summary\": {\\n            \"type\": \"string\",\\n            \"description\": \"Short summary of publication. e.g. Discussion of the World Wide Web, HTTP, HTML.\"\\n          }\\n        }\\n      }\\n    },\\n    \"skills\": {\\n      \"type\": \"array\",\\n      \"description\": \"List out your professional skill-set\",\\n      \"additionalItems\": false,\\n      \"items\": {\\n        \"type\": \"object\",\\n        \"additionalProperties\": true,\\n        \"properties\": {\\n          \"name\": {\\n            \"type\": \"string\",\\n            \"description\": \"e.g. Web Development\"\\n          },\\n          \"level\": {\\n            \"type\": \"string\",\\n            \"description\": \"e.g. Master\"\\n          },\\n          \"keywords\": {\\n            \"type\": \"array\",\\n            \"description\": \"List some keywords pertaining to this skill\",\\n            \"additionalItems\": false,\\n            \"items\": {\\n              \"type\": \"string\",\\n              \"description\": \"e.g. HTML\"\\n            }\\n          }\\n        }\\n      }\\n    },\\n    \"languages\": {\\n      \"type\": \"array\",\\n      \"description\": \"List any other languages you speak\",\\n      \"additionalItems\": false,\\n      \"items\": {\\n        \"type\": \"object\",\\n        \"additionalProperties\": true,\\n        \"properties\": {\\n          \"language\": {\\n            \"type\": \"string\",\\n            \"description\": \"e.g. English, Spanish\"\\n          },\\n          \"fluency\": {\\n            \"type\": \"string\",\\n            \"description\": \"e.g. Fluent, Beginner\"\\n          }\\n        }\\n      }\\n    },\\n    \"interests\": {\\n      \"type\": \"array\",\\n      \"additionalItems\": false,\\n      \"items\": {\\n        \"type\": \"object\",\\n        \"additionalProperties\": true,\\n        \"properties\": {\\n          \"name\": {\\n            \"type\": \"string\",\\n            \"description\": \"e.g. Philosophy\"\\n          },\\n          \"keywords\": {\\n            \"type\": \"array\",\\n            \"additionalItems\": false,\\n            \"items\": {\\n              \"type\": \"string\",\\n              \"description\": \"e.g. Friedrich Nietzsche\"\\n            }\\n          }\\n        }\\n      }\\n    },\\n    \"references\": {\\n      \"type\": \"array\",\\n      \"description\": \"List references you have received\",\\n      \"additionalItems\": false,\\n      \"items\": {\\n        \"type\": \"object\",\\n        \"additionalProperties\": true,\\n        \"properties\": {\\n          \"name\": {\\n            \"type\": \"string\",\\n            \"description\": \"e.g. Timothy Cook\"\\n          },\\n          \"reference\": {\\n            \"type\": \"string\",\\n            \"description\": \"e.g. Joe blogs was a great employee, who turned up to work at least once a week. He exceeded my expectations when it came to doing nothing.\"\\n          }\\n        }\\n      }\\n    },\\n    \"projects\": {\\n      \"type\": \"array\",\\n      \"description\": \"Specify career projects\",\\n      \"additionalItems\": false,\\n      \"items\": {\\n        \"type\": \"object\",\\n        \"additionalProperties\": true,\\n        \"properties\": {\\n          \"name\": {\\n            \"type\": \"string\",\\n            \"description\": \"e.g. The World Wide Web\"\\n          },\\n          \"description\": {\\n            \"type\": \"string\",\\n            \"description\": \"Short summary of project. e.g. Collated works of 2017.\"\\n          },\\n          \"highlights\": {\\n            \"type\": \"array\",\\n            \"description\": \"Specify multiple features\",\\n            \"additionalItems\": false,\\n            \"items\": {\\n              \"type\": \"string\",\\n              \"description\": \"e.g. Directs you close but not quite there\"\\n            }\\n          },\\n          \"keywords\": {\\n            \"type\": \"array\",\\n            \"description\": \"Specify special elements involved\",\\n            \"additionalItems\": false,\\n            \"items\": {\\n              \"type\": \"string\",\\n              \"description\": \"e.g. AngularJS\"\\n            }\\n          },\\n          \"startDate\": {\\n            \"type\": \"string\",\\n            \"description\": \"Similar to the standard date type, but each section after the year is optional. e.g. 2014-06-29 or 2023-04\",\\n            \"pattern\": \"^([1-2][0-9]{3}-[0-1][0-9]-[0-3][0-9]|[1-2][0-9]{3}-[0-1][0-9]|[1-2][0-9]{3})$\"\\n          },\\n          \"endDate\": {\\n            \"type\": \"string\",\\n            \"description\": \"Similar to the standard date type, but each section after the year is optional. e.g. 2014-06-29 or 2023-04\",\\n            \"pattern\": \"^([1-2][0-9]{3}-[0-1][0-9]-[0-3][0-9]|[1-2][0-9]{3}-[0-1][0-9]|[1-2][0-9]{3})$\"\\n          },\\n          \"url\": {\\n            \"type\": \"string\",\\n            \"format\": \"uri\",\\n            \"description\": \"e.g. http://www.computer.org/csdl/mags/co/1996/10/rx069-abs.html\"\\n          },\\n          \"roles\": {\\n            \"type\": \"array\",\\n            \"description\": \"Specify your role on this project or in company\",\\n            \"additionalItems\": false,\\n            \"items\": {\\n              \"type\": \"string\",\\n              \"description\": \"e.g. Team Lead, Speaker, Writer\"\\n            }\\n          },\\n          \"entity\": {\\n            \"type\": \"string\",\\n            \"description\": \"Specify the relevant company/entity affiliations e.g. \\'greenpeace\\', \\'corporationXYZ\\'\"\\n          },\\n          \"type\": {\\n            \"type\": \"string\",\\n            \"description\": \" e.g. \\'volunteering\\', \\'presentation\\', \\'talk\\', \\'application\\', \\'conference\\'\"\\n          }\\n        }\\n      }\\n    }\\n  }\\n}', metadata={}, model='gpt-4-turbo-preview', name='Resume Customizer', object='assistant', tools=[FileSearchTool(type='file_search', file_search=None)], response_format='auto', temperature=1.0, tool_resources=ToolResources(code_interpreter=None, file_search=ToolResourcesFileSearch(vector_store_ids=[])), top_p=1.0)\n"
     ]
    }
   ],
   "source": [
    "resume_assistant = client.beta.assistants.retrieve(\"asst_fixO3zdAF2VSLVasrSpNMrDt\")\n",
    "print(resume_assistant)"
   ]
  },
  {
   "cell_type": "code",
   "execution_count": 23,
   "id": "907d8c1a",
   "metadata": {},
   "outputs": [
    {
     "name": "stdout",
     "output_type": "stream",
     "text": [
      "SyncCursorPage[VectorStoreFile](data=[VectorStoreFile(id='file-h2qquh1xpckfxGSuhGFRgvBv', created_at=1721953712, last_error=None, object='vector_store.file', status='completed', usage_bytes=6909, vector_store_id='vs_JjsnSAuBISfoU9EEmVZY43AX', chunking_strategy=ChunkingStrategyStatic(static=ChunkingStrategyStaticStatic(chunk_overlap_tokens=400, max_chunk_size_tokens=800), type='static'))], object='list', first_id='file-h2qquh1xpckfxGSuhGFRgvBv', last_id='file-h2qquh1xpckfxGSuhGFRgvBv', has_more=False)\n"
     ]
    }
   ],
   "source": [
    "# Vector Store containing example linkedin profile\n",
    "vector_store_files = client.beta.vector_stores.files.list(\n",
    "  vector_store_id=\"vs_JjsnSAuBISfoU9EEmVZY43AX\"\n",
    ")\n",
    "print(vector_store_files)"
   ]
  },
  {
   "cell_type": "code",
   "execution_count": 26,
   "id": "037c2acd",
   "metadata": {},
   "outputs": [],
   "source": [
    "# Attach the vectorized example linkedIn profile to this thread\n",
    "thread = client.beta.threads.create(\n",
    "    tool_resources={\n",
    "        'file_search': {\n",
    "            'vector_store_ids': [\"vs_JjsnSAuBISfoU9EEmVZY43AX\"]\n",
    "        }\n",
    "    }\n",
    ")\n",
    "# read in contents of job description\n",
    "with open(\"job_description.json\", \"r\") as f:\n",
    "    job_description = f.read()\n",
    "    thread_message = client.beta.threads.messages.create(\n",
    "        thread_id=thread.id,\n",
    "        role=\"user\",\n",
    "        content=job_description,\n",
    "    )"
   ]
  },
  {
   "cell_type": "code",
   "execution_count": null,
   "id": "bd325008",
   "metadata": {},
   "outputs": [],
   "source": []
  }
 ],
 "metadata": {
  "kernelspec": {
   "display_name": "Python 3",
   "language": "python",
   "name": "python3"
  },
  "language_info": {
   "codemirror_mode": {
    "name": "ipython",
    "version": 3
   },
   "file_extension": ".py",
   "mimetype": "text/x-python",
   "name": "python",
   "nbconvert_exporter": "python",
   "pygments_lexer": "ipython3",
   "version": "3.12.4"
  }
 },
 "nbformat": 4,
 "nbformat_minor": 5
}
