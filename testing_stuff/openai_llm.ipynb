{
 "cells": [
  {
   "cell_type": "code",
   "execution_count": null,
   "id": "592677ee",
   "metadata": {},
   "outputs": [],
   "source": [
    "from openai import OpenAI\n",
    "\n",
    "client = OpenAI() # defautls to getting the key using os.environ.get(\"OPENAI_API_KEY\")"
   ]
  },
  {
   "cell_type": "code",
   "execution_count": null,
   "id": "907d8c1a",
   "metadata": {},
   "outputs": [],
   "source": [
    "# Upload LinkedIn profile to OpenAI\n",
    "profile = client.files.create(\n",
    "  file=open(\"LinkedIn_profile.json\", \"rb\"),\n",
    "  purpose=\"assistants\"\n",
    ")\n",
    "print(profile)"
   ]
  },
  {
   "cell_type": "code",
   "execution_count": null,
   "id": "9120832f",
   "metadata": {},
   "outputs": [],
   "source": [
    "# read in contents of job description\n",
    "with open(\"job_description.json\", \"r\") as f:\n",
    "    job_description = f.read()\n",
    "print(job_description)"
   ]
  },
  {
   "cell_type": "code",
   "execution_count": null,
   "id": "037c2acd",
   "metadata": {},
   "outputs": [],
   "source": [
    "# Attach the example linkedIn profile to this thread\n",
    "# OpenAI automatically creates a vector store for the file that expires in 7 days\n",
    "thread = client.beta.threads.create(\n",
    "    tool_resources={\n",
    "        'file_search': {\n",
    "            'vector_stores': [\n",
    "                {\n",
    "                    'file_ids': [profile.id]\n",
    "                }\n",
    "            ]\n",
    "        }\n",
    "    },\n",
    "    messages=[\n",
    "        {\n",
    "            'role': 'user',\n",
    "            'content': job_description\n",
    "        }\n",
    "    ]\n",
    ")\n",
    "\n",
    "print(thread)"
   ]
  },
  {
   "cell_type": "code",
   "execution_count": null,
   "id": "bd325008",
   "metadata": {},
   "outputs": [],
   "source": [
    "import os\n",
    "\n",
    "def run_assistant(thread_id):\n",
    "    return client.beta.threads.runs.create_and_poll(\n",
    "        thread_id=thread_id,\n",
    "        assistant_id=os.getenv(\"OPENAI_ASSISTANT_ID\")\n",
    "    )\n",
    "\n",
    "print(run_assistant(thread.id))"
   ]
  },
  {
   "cell_type": "code",
   "execution_count": null,
   "id": "7fbb98ec",
   "metadata": {},
   "outputs": [],
   "source": [
    "import json\n",
    "\n",
    "def extract_resume(thread_id):\n",
    "    thread_messages = client.beta.threads.messages.list(thread_id)\n",
    "    asssitant_response = thread_messages.data[0].content[0].text.value\n",
    "\n",
    "    # Extract the JSON resume from the message content\n",
    "    start = asssitant_response.index(\"```json\") + len(\"```json\")\n",
    "    end = asssitant_response.index(\"```\", start)\n",
    "\n",
    "    resume = json.loads(asssitant_response[start:end])\n",
    "\n",
    "    # Remove endDate if empty (indicates current position)\n",
    "    for experience in resume[\"work\"]:\n",
    "        if experience.get(\"endDate\") == \"\":\n",
    "            experience.pop(\"endDate\")\n",
    "    \n",
    "    return resume\n",
    "\n",
    "resume = extract_resume(thread.id)\n",
    "print(resume)"
   ]
  },
  {
   "cell_type": "code",
   "execution_count": null,
   "id": "592582ef",
   "metadata": {},
   "outputs": [],
   "source": [
    "from jsonschema import validate\n",
    "import json\n",
    "\n",
    "# read in schema\n",
    "with open(\"schema.json\", \"r\") as f:\n",
    "    schema = json.loads(f.read())\n",
    "print(schema)\n",
    "\n",
    "# Validate Schema\n",
    "def validate_and_correct_resume(resume):\n",
    "    try:\n",
    "        validate(instance=resume, schema=schema)\n",
    "    except Exception as e:\n",
    "        print(f'Error validating JSON Schema: {e}')\n",
    "        \n",
    "        # Feed error back into assistant\n",
    "        client.beta.threads.messages.create(\n",
    "            thread_id=thread.id,\n",
    "            role=\"user\",\n",
    "            content=f'There was an error validating the generated JSON resume against the JSON Schema.\\\n",
    "                Fix the issues outlined by the following error and regenerate the JSON resume: {e}'\n",
    "        )\n",
    "\n",
    "        run_assistant(thread.id)\n",
    "        resume = validate_and_correct_resume(extract_resume(thread.id))\n",
    "    \n",
    "    return resume\n",
    "\n",
    "resume = validate_and_correct_resume(resume)"
   ]
  },
  {
   "cell_type": "code",
   "execution_count": null,
   "id": "ac6e2af9",
   "metadata": {},
   "outputs": [],
   "source": [
    "# write custom resume to file\n",
    "with open('custom_resume.json', 'w') as output_file:\n",
    "    json.dump(resume, output_file)"
   ]
  }
 ],
 "metadata": {
  "kernelspec": {
   "display_name": "Python 3",
   "language": "python",
   "name": "python3"
  },
  "language_info": {
   "codemirror_mode": {
    "name": "ipython",
    "version": 3
   },
   "file_extension": ".py",
   "mimetype": "text/x-python",
   "name": "python",
   "nbconvert_exporter": "python",
   "pygments_lexer": "ipython3",
   "version": "3.12.5"
  }
 },
 "nbformat": 4,
 "nbformat_minor": 5
}
